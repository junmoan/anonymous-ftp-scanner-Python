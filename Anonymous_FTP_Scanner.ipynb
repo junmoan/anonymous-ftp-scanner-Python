{
  "nbformat": 4,
  "nbformat_minor": 0,
  "metadata": {
    "colab": {
      "name": "Anonymous_FTP_Scanner.ipynb",
      "provenance": [],
      "collapsed_sections": []
    },
    "kernelspec": {
      "name": "python3",
      "display_name": "Python 3"
    }
  },
  "cells": [
    {
      "cell_type": "code",
      "metadata": {
        "id": "oQoXJsWnVrs1",
        "colab_type": "code",
        "colab": {}
      },
      "source": [
        "# Import.\n",
        "import ftplib, time"
      ],
      "execution_count": 0,
      "outputs": []
    },
    {
      "cell_type": "code",
      "metadata": {
        "id": "QR_9PCg3V6YG",
        "colab_type": "code",
        "colab": {}
      },
      "source": [
        "def anonLogin(hostname):\n",
        "  try:\n",
        "    ftp = ftplib.FTP(hostname)\n",
        "    ftp.login(\"anonymous\", \"me@your.com\")\n",
        "    print(\"\\n[*] \" + str(hostname) + \" FTP Anonymous Logon Succeded.\")\n",
        "    ftp.quit()\n",
        "    #return True\n",
        "    \n",
        "  except:\n",
        "    print(\"\\n[-] \" + str(hostname) + \" FTP Anonymous Logon Failed.\")\n",
        "    #return False"
      ],
      "execution_count": 0,
      "outputs": []
    },
    {
      "cell_type": "code",
      "metadata": {
        "id": "mdn3wgjFV8ml",
        "colab_type": "code",
        "colab": {
          "base_uri": "https://localhost:8080/",
          "height": 51
        },
        "outputId": "280727ae-952a-4046-fb9b-a9b0269cff40"
      },
      "source": [
        "# Set the IP address and scan an anonymous FTP server.\n",
        "host = '192.168.130.133'\n",
        "anonLogin(host)"
      ],
      "execution_count": 34,
      "outputs": [
        {
          "output_type": "stream",
          "text": [
            "\n",
            "[-] 192.168.130.133 FTP Anonymous Logon Failed.\n"
          ],
          "name": "stdout"
        }
      ]
    },
    {
      "cell_type": "code",
      "metadata": {
        "id": "ejtTaV2zWR2z",
        "colab_type": "code",
        "colab": {}
      },
      "source": [
        "def ipRange(start_ip, end_ip):\n",
        "   global ip_range\n",
        "   start = list(map(int, start_ip.split(\".\")))\n",
        "   end = list(map(int, end_ip.split(\".\")))\n",
        "   temp = start\n",
        "   ip_range = []\n",
        "   ip_range.append(start_ip)\n",
        "   while temp != end:\n",
        "      start[3] += 1\n",
        "      for i in (3, 2, 1):\n",
        "         if temp[i] == 256:\n",
        "            temp[i] = 0\n",
        "            temp[i-1] += 1\n",
        "      ip_range.append(\".\".join(map(str, temp)))    \n",
        "   return ip_range"
      ],
      "execution_count": 0,
      "outputs": []
    },
    {
      "cell_type": "code",
      "metadata": {
        "id": "Y02ONXG2W4fm",
        "colab_type": "code",
        "colab": {
          "base_uri": "https://localhost:8080/",
          "height": 187
        },
        "outputId": "dc06519c-0f92-4a67-a72d-1ffd45adf104"
      },
      "source": [
        "# Set the range of IP address for scanning.\n",
        "ipList = ipRange('192.168.95.1', '192.168.95.10')\n",
        "ipList"
      ],
      "execution_count": 28,
      "outputs": [
        {
          "output_type": "execute_result",
          "data": {
            "text/plain": [
              "['192.168.95.1',\n",
              " '192.168.95.2',\n",
              " '192.168.95.3',\n",
              " '192.168.95.4',\n",
              " '192.168.95.5',\n",
              " '192.168.95.6',\n",
              " '192.168.95.7',\n",
              " '192.168.95.8',\n",
              " '192.168.95.9',\n",
              " '192.168.95.10']"
            ]
          },
          "metadata": {
            "tags": []
          },
          "execution_count": 28
        }
      ]
    },
    {
      "cell_type": "code",
      "metadata": {
        "id": "VHFSa8xecFsx",
        "colab_type": "code",
        "colab": {
          "base_uri": "https://localhost:8080/",
          "height": 357
        },
        "outputId": "876a502c-4d93-4188-f4fe-208616ee8e6a"
      },
      "source": [
        "# Scan anonymous FTP servers.\n",
        "for i in range(len(ipList)):\n",
        "    anonLogin(ipList[i])"
      ],
      "execution_count": 32,
      "outputs": [
        {
          "output_type": "stream",
          "text": [
            "\n",
            "[-] 192.168.95.1 FTP Anonymous Logon Failed.\n",
            "\n",
            "[-] 192.168.95.2 FTP Anonymous Logon Failed.\n",
            "\n",
            "[-] 192.168.95.3 FTP Anonymous Logon Failed.\n",
            "\n",
            "[-] 192.168.95.4 FTP Anonymous Logon Failed.\n",
            "\n",
            "[-] 192.168.95.5 FTP Anonymous Logon Failed.\n",
            "\n",
            "[-] 192.168.95.6 FTP Anonymous Logon Failed.\n",
            "\n",
            "[-] 192.168.95.7 FTP Anonymous Logon Failed.\n",
            "\n",
            "[-] 192.168.95.8 FTP Anonymous Logon Failed.\n",
            "\n",
            "[-] 192.168.95.9 FTP Anonymous Logon Failed.\n",
            "\n",
            "[-] 192.168.95.10 FTP Anonymous Logon Failed.\n"
          ],
          "name": "stdout"
        }
      ]
    },
    {
      "cell_type": "code",
      "metadata": {
        "id": "5D3HNDLncczW",
        "colab_type": "code",
        "colab": {}
      },
      "source": [
        ""
      ],
      "execution_count": 0,
      "outputs": []
    }
  ]
}